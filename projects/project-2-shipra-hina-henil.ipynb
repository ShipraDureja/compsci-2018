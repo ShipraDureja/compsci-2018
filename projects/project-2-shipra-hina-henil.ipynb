{
 "cells": [
  {
   "cell_type": "code",
   "execution_count": null,
   "metadata": {},
   "outputs": [],
   "source": [
    "import matplotlib.pyplot as plt\n",
    "import numpy as np\n",
    "%matplotlib inline\n"
   ]
  },
  {
   "cell_type": "code",
   "execution_count": null,
   "metadata": {},
   "outputs": [],
   "source": [
    "def potential_gradient(x, y, g, k):\n",
    "\n",
    "    \"\"\" Velocity Verlet implementation on a rope\n",
    "    This function computes the gradient for each particle r(x,y)\n",
    "\n",
    "    Parameters:\n",
    "        x, y = coordinates of particles\n",
    "        g = 9.8 is gravity constant\n",
    "        k = 50 is spring constant\n",
    "        size = length of markov chain\n",
    "        mass = mass of particle\n",
    "    \"\"\"\n",
    "    particles = len(x)\n",
    "    gradient_x, gradient_y = np.zeros(particles), np.zeros(particles)\n",
    "    gravity_g = np.zeros(particles)\n",
    "    gradient_x[1:-1] = 2*k*(2*x[1:-1] - x[:-2] - x[2:])\n",
    "    gradient_y[1:-1] = 2*k*(2*y[1:-1] - y[:-2] - y[2:])\n",
    "    gravity_g[1:-1] = g\n",
    "    return gradient_x, gradient_y + gravity_g\n"
   ]
  },
  {
   "cell_type": "code",
   "execution_count": null,
   "metadata": {},
   "outputs": [],
   "source": [
    "def vv(potential_gradient, rx, ry, tow=0.01, g=9.8, k=20,\n",
    "        size=10000, mass=1.0):\n",
    "\n",
    "    n = len(rx)\n",
    "    verletX, verletY = np.zeros((size, n)), np.zeros((size, n))\n",
    "    velocity_x, velocity_y = np.zeros((size, n)), np.zeros((size, n))\n",
    "    verletX[0], verletY[0] = rx, ry\n",
    "    for i in range(1, size):\n",
    "        grad_x, grad_y = potential_gradient(verletX[i-1], verletY[i-1], g, k)\n",
    "        rx_new = verletX[i-1] + tow*velocity_x[i-1] - ((tow**2)/(mass*2))*grad_x\n",
    "        ry_new = verletY[i-1] + tow*velocity_y[i-1] - ((tow**2)/(mass*2))*grad_y\n",
    "        verletX[i], verletY[i] = rx_new, ry_new\n",
    "        new_grad_x, new_grad_y = potential_gradient(rx_new, ry_new, g, k)\n",
    "        vx_new = velocity_x[i-1] - (tow/(2*mass)) * (grad_x + new_grad_x)\n",
    "        vy_new = velocity_y[i-1] - (tow/(2*mass)) * (grad_y + new_grad_y)\n",
    "        velocity_x[i], velocity_y[i] = vx_new, vy_new\n",
    "    return verletX, verletY\n"
   ]
  },
  {
   "cell_type": "code",
   "execution_count": null,
   "metadata": {},
   "outputs": [],
   "source": [
    "x_init, y_init, n = 0, 20, 32\n",
    "rx, ry = np.linspace(x_init, n - 1, n), np.linspace(y_init, y_init, n)\n",
    "verletX, verletY = vv(potential_gradient, rx, ry)\n",
    "\n",
    "plt.plot(verletX[-1].T, verletY[-1].T, '-o')\n",
    "plt.xlabel(\"x-axis\")\n",
    "plt.ylabel(\"y-axis\")\n",
    "plt.show()\n"
   ]
  },
  {
   "cell_type": "code",
   "execution_count": null,
   "metadata": {},
   "outputs": [],
   "source": []
  }
 ],
 "metadata": {
  "kernelspec": {
   "display_name": "Python 3",
   "language": "python",
   "name": "python3"
  },
  "language_info": {
   "codemirror_mode": {
    "name": "ipython",
    "version": 3
   },
   "file_extension": ".py",
   "mimetype": "text/x-python",
   "name": "python",
   "nbconvert_exporter": "python",
   "pygments_lexer": "ipython3",
   "version": "3.7.0"
  }
 },
 "nbformat": 4,
 "nbformat_minor": 2
}
